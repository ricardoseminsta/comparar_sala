{
 "cells": [
  {
   "cell_type": "markdown",
   "id": "37beebf2",
   "metadata": {},
   "source": [
    "## Comparando Bens nas salas\n",
    "#### comparando os bens de uma planilha de levantamento físico com o estado real do SUAP"
   ]
  },
  {
   "cell_type": "code",
   "execution_count": 4,
   "id": "55bbb99d",
   "metadata": {},
   "outputs": [],
   "source": [
    "# importando o pandas e a planilha dap pra realizar testes\n",
    "import pandas as pd\n",
    "\n",
    "tombos_df = pd.read_excel('dap.xlsx')\n",
    "# display(tombos_df.head())\n",
    "\n",
    "suap_df = pd.read_excel('dap_suap.xlsx')\n",
    "# display(suap_df.head())\n",
    "\n",
    "autentica = pd.read_excel('ls.xlsx')\n",
    "indisponivel = 'indisponivel'\n",
    "login = str(autentica['login'][0])\n",
    "senha = str(autentica['senha'][0])\n"
   ]
  },
  {
   "cell_type": "code",
   "execution_count": 1,
   "id": "431ff931",
   "metadata": {},
   "outputs": [],
   "source": [
    "from selenium import webdriver\n",
    "from selenium.webdriver.common.keys import Keys\n",
    "from selenium.webdriver.support.ui import Select\n",
    "from selenium.common.exceptions import NoSuchElementException\n",
    "\n",
    "import time\n",
    "\n",
    "\n",
    "\n",
    "def abrir_suap():\n",
    "    \n",
    "    global nav\n",
    "    nav = webdriver.Chrome()\n",
    "    nav.get(\"https://suap.ifpe.edu.br/accounts/login/?next=/\")\n",
    "    # inserindo usuário\n",
    "    nav.find_element_by_xpath('//*[@id=\"id_username\"]').click()\n",
    "    nav.find_element_by_xpath('//*[@id=\"id_username\"]').send_keys(login)\n",
    "\n",
    "    # inserindo senha \n",
    "    nav.find_element_by_xpath('//*[@id=\"id_password\"]').click()\n",
    "    nav.find_element_by_xpath('//*[@id=\"id_password\"]').send_keys(senha)\n",
    "\n",
    "    nav.find_element_by_xpath('//*[@id=\"ok\"]').click()"
   ]
  },
  {
   "cell_type": "code",
   "execution_count": 9,
   "id": "36bb8ddd",
   "metadata": {},
   "outputs": [],
   "source": [
    "def comparar():\n",
    "    \n",
    "    abrir_suap()\n",
    "    \n",
    "    # informações relevantes da comparação\n",
    "    tombo_lista = []\n",
    "    carga_lista = []\n",
    "    descricao_lista = []\n",
    "\n",
    "    # linha = ['83317', '85223', '85272']\n",
    "    # buscando tombo do bem\n",
    "\n",
    "    for tombo in tombos_df['tombo']:\n",
    "        \n",
    "        try:\n",
    "            nav.get(f\"https://suap.ifpe.edu.br/patrimonio/inventario/{tombo}/\")\n",
    "\n",
    "            tombo_lista.append(tombo)\n",
    "            # print(tombo)\n",
    "\n",
    "            descricao = nav.find_element_by_xpath(\"/html/body/div[1]/div[3]/table[1]/tbody/tr[6]/td[2]/span[1]\").get_attribute('innerText')\n",
    "            descricao_lista.append(descricao)\n",
    "            # print(descricao)\n",
    "\n",
    "            carga = nav.find_element_by_xpath(\"/html/body/div[1]/div[3]/table[1]/tbody/tr[7]/td[2]\").get_attribute('innerText')\n",
    "            carga_lista.append(carga)\n",
    "            # print(carga)\n",
    "            \n",
    "        except NoSuchElementException:\n",
    "            \n",
    "            descricao_lista.append(indisponivel)\n",
    "            carga_lista.append(indisponivel)\n",
    "            \n",
    "\n",
    "    levantamento_fisico = pd.DataFrame()\n",
    "    levantamento_fisico['tombo'] = tombo_lista\n",
    "    levantamento_fisico['DESCRICAO'] = descricao_lista\n",
    "    levantamento_fisico['CARGA ATUAL'] = carga_lista\n",
    "\n",
    "    # display(levantamento_fisico)\n",
    "\n",
    "    diferanca = pd.merge(levantamento_fisico, suap_df, on='tombo', how='outer', indicator=True, suffixes=('_lev_fisico','_suap'))\n",
    "    # display(diferanca)\n",
    "    diferanca.to_excel('diferenca.xlsx', index=False)\n",
    "\n",
    "    # time.sleep(15)\n",
    "    nav.quit()"
   ]
  },
  {
   "cell_type": "code",
   "execution_count": 10,
   "id": "63d48e38",
   "metadata": {
    "scrolled": false
   },
   "outputs": [],
   "source": [
    "comparar()"
   ]
  }
 ],
 "metadata": {
  "kernelspec": {
   "display_name": "Python 3",
   "language": "python",
   "name": "python3"
  },
  "language_info": {
   "codemirror_mode": {
    "name": "ipython",
    "version": 3
   },
   "file_extension": ".py",
   "mimetype": "text/x-python",
   "name": "python",
   "nbconvert_exporter": "python",
   "pygments_lexer": "ipython3",
   "version": "3.8.8"
  }
 },
 "nbformat": 4,
 "nbformat_minor": 5
}
